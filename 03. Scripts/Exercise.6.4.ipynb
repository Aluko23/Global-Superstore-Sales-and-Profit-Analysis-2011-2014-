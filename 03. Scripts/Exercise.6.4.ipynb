{
 "cells": [
  {
   "cell_type": "markdown",
   "id": "e7501b8f-5041-4187-9a2b-995b80326238",
   "metadata": {},
   "source": [
    "# 6.4: Supervised Machine Learning: Regression"
   ]
  },
  {
   "cell_type": "markdown",
   "id": "7b0fbd30-0494-4da9-86c7-50372c8f4633",
   "metadata": {},
   "source": [
    "This script contains the following:\n",
    "1. Importing libraries and data\n",
    "2. Data cleaning\n",
    "3. Data prep for regression analysis\n",
    "4. Regression analysis\n",
    "Bonus: performance improvement after removing outliers"
   ]
  },
  {
   "cell_type": "markdown",
   "id": "e03671ef-07fc-438f-b4b7-06e64fa090bc",
   "metadata": {},
   "source": [
    "# 1. Importing libraries and data"
   ]
  },
  {
   "cell_type": "code",
   "execution_count": 1,
   "id": "d4a9ea36-af0d-4621-b7cc-c50f01a15c80",
   "metadata": {},
   "outputs": [],
   "source": [
    "# import libraries\n",
    "import pandas as pd\n",
    "import numpy as np\n",
    "import os\n",
    "import matplotlib.pyplot as plt\n",
    "import matplotlib\n",
    "import seaborn as sns\n",
    "import scipy\n",
    "import folium\n",
    "import json\n",
    "import geopandas\n",
    "import sklearn\n",
    "from sklearn.model_selection import train_test_split \n",
    "from sklearn.linear_model import LinearRegression\n",
    "from sklearn.metrics import mean_squared_error, r2_score"
   ]
  },
  {
   "cell_type": "code",
   "execution_count": 2,
   "id": "f2d1aa73-86bc-4a04-92bb-d95141a6e3ab",
   "metadata": {},
   "outputs": [],
   "source": [
    "# This option ensures the charts you create are displayed in the notebook without the need to \"call\" them specifically.\n",
    "\n",
    "%matplotlib inline"
   ]
  },
  {
   "cell_type": "code",
   "execution_count": 3,
   "id": "279f105d-5706-41b9-ae1f-516f79052d09",
   "metadata": {},
   "outputs": [],
   "source": [
    "path = r'C:\\Users\\Tim\\Desktop\\Data Analytics Intro\\6. Advanced Analytics & Dashboard Design\\Global Superstore_Data Analysis Project'"
   ]
  },
  {
   "cell_type": "code",
   "execution_count": 4,
   "id": "bdb91a50-d533-4f2b-9338-a8a03281ee1e",
   "metadata": {},
   "outputs": [],
   "source": [
    "super_store = pd.read_csv(os.path.join(path, '02. Data', 'Prepared Data', 'superstore_clean.csv'))"
   ]
  },
  {
   "cell_type": "markdown",
   "id": "6f5e5b8e-a030-49b7-9f8d-c0a3f35fbf24",
   "metadata": {},
   "source": [
    "# 2. Data cleaning"
   ]
  },
  {
   "cell_type": "code",
   "execution_count": 5,
   "id": "3356e378-421b-444c-9e7d-c6d66be2e49a",
   "metadata": {},
   "outputs": [
    {
     "data": {
      "text/plain": [
       "Index(['Unnamed: 0', 'Category', 'City', 'Country', 'Customer.ID', 'Discount',\n",
       "       'Market', 'Order.Date', 'Order.ID', 'Order.Priority', 'Product.ID',\n",
       "       'Product.Name', 'Profit', 'Quantity', 'Region', 'Row.ID', 'Sales',\n",
       "       'Segment', 'Ship.Date', 'Ship.Mode', 'Shipping.Cost', 'State',\n",
       "       'Sub.Category', 'Year', 'Market2', 'weeknum'],\n",
       "      dtype='object')"
      ]
     },
     "execution_count": 5,
     "metadata": {},
     "output_type": "execute_result"
    }
   ],
   "source": [
    "super_store.columns"
   ]
  },
  {
   "cell_type": "code",
   "execution_count": 7,
   "id": "b1e539c7-e1d9-4271-aa1a-a7df04cbfb63",
   "metadata": {},
   "outputs": [
    {
     "data": {
      "text/html": [
       "<div>\n",
       "<style scoped>\n",
       "    .dataframe tbody tr th:only-of-type {\n",
       "        vertical-align: middle;\n",
       "    }\n",
       "\n",
       "    .dataframe tbody tr th {\n",
       "        vertical-align: top;\n",
       "    }\n",
       "\n",
       "    .dataframe thead th {\n",
       "        text-align: right;\n",
       "    }\n",
       "</style>\n",
       "<table border=\"1\" class=\"dataframe\">\n",
       "  <thead>\n",
       "    <tr style=\"text-align: right;\">\n",
       "      <th></th>\n",
       "      <th>Unnamed: 0</th>\n",
       "      <th>Category</th>\n",
       "      <th>City</th>\n",
       "      <th>Country</th>\n",
       "      <th>Customer.ID</th>\n",
       "      <th>Discount</th>\n",
       "      <th>Market</th>\n",
       "      <th>Order.Date</th>\n",
       "      <th>Order.ID</th>\n",
       "      <th>Order.Priority</th>\n",
       "      <th>...</th>\n",
       "      <th>Sales</th>\n",
       "      <th>Segment</th>\n",
       "      <th>Ship.Date</th>\n",
       "      <th>Ship.Mode</th>\n",
       "      <th>Shipping.Cost</th>\n",
       "      <th>State</th>\n",
       "      <th>Sub.Category</th>\n",
       "      <th>Year</th>\n",
       "      <th>Market2</th>\n",
       "      <th>weeknum</th>\n",
       "    </tr>\n",
       "  </thead>\n",
       "  <tbody>\n",
       "    <tr>\n",
       "      <th>0</th>\n",
       "      <td>0</td>\n",
       "      <td>Office Supplies</td>\n",
       "      <td>Los Angeles</td>\n",
       "      <td>United States</td>\n",
       "      <td>LS-172304</td>\n",
       "      <td>0.0</td>\n",
       "      <td>US</td>\n",
       "      <td>2011-01-07 00:00:00.000</td>\n",
       "      <td>CA-2011-130813</td>\n",
       "      <td>High</td>\n",
       "      <td>...</td>\n",
       "      <td>19</td>\n",
       "      <td>Consumer</td>\n",
       "      <td>2011-01-09 00:00:00.000</td>\n",
       "      <td>Second Class</td>\n",
       "      <td>4.37</td>\n",
       "      <td>California</td>\n",
       "      <td>Paper</td>\n",
       "      <td>2011</td>\n",
       "      <td>North America</td>\n",
       "      <td>2</td>\n",
       "    </tr>\n",
       "    <tr>\n",
       "      <th>1</th>\n",
       "      <td>1</td>\n",
       "      <td>Office Supplies</td>\n",
       "      <td>Los Angeles</td>\n",
       "      <td>United States</td>\n",
       "      <td>MV-174854</td>\n",
       "      <td>0.0</td>\n",
       "      <td>US</td>\n",
       "      <td>2011-01-21 00:00:00.000</td>\n",
       "      <td>CA-2011-148614</td>\n",
       "      <td>Medium</td>\n",
       "      <td>...</td>\n",
       "      <td>19</td>\n",
       "      <td>Consumer</td>\n",
       "      <td>2011-01-26 00:00:00.000</td>\n",
       "      <td>Standard Class</td>\n",
       "      <td>0.94</td>\n",
       "      <td>California</td>\n",
       "      <td>Paper</td>\n",
       "      <td>2011</td>\n",
       "      <td>North America</td>\n",
       "      <td>4</td>\n",
       "    </tr>\n",
       "    <tr>\n",
       "      <th>2</th>\n",
       "      <td>2</td>\n",
       "      <td>Office Supplies</td>\n",
       "      <td>Los Angeles</td>\n",
       "      <td>United States</td>\n",
       "      <td>CS-121304</td>\n",
       "      <td>0.0</td>\n",
       "      <td>US</td>\n",
       "      <td>2011-08-05 00:00:00.000</td>\n",
       "      <td>CA-2011-118962</td>\n",
       "      <td>Medium</td>\n",
       "      <td>...</td>\n",
       "      <td>21</td>\n",
       "      <td>Consumer</td>\n",
       "      <td>2011-08-09 00:00:00.000</td>\n",
       "      <td>Standard Class</td>\n",
       "      <td>1.81</td>\n",
       "      <td>California</td>\n",
       "      <td>Paper</td>\n",
       "      <td>2011</td>\n",
       "      <td>North America</td>\n",
       "      <td>32</td>\n",
       "    </tr>\n",
       "    <tr>\n",
       "      <th>3</th>\n",
       "      <td>3</td>\n",
       "      <td>Office Supplies</td>\n",
       "      <td>Los Angeles</td>\n",
       "      <td>United States</td>\n",
       "      <td>CS-121304</td>\n",
       "      <td>0.0</td>\n",
       "      <td>US</td>\n",
       "      <td>2011-08-05 00:00:00.000</td>\n",
       "      <td>CA-2011-118962</td>\n",
       "      <td>Medium</td>\n",
       "      <td>...</td>\n",
       "      <td>111</td>\n",
       "      <td>Consumer</td>\n",
       "      <td>2011-08-09 00:00:00.000</td>\n",
       "      <td>Standard Class</td>\n",
       "      <td>4.59</td>\n",
       "      <td>California</td>\n",
       "      <td>Paper</td>\n",
       "      <td>2011</td>\n",
       "      <td>North America</td>\n",
       "      <td>32</td>\n",
       "    </tr>\n",
       "    <tr>\n",
       "      <th>4</th>\n",
       "      <td>4</td>\n",
       "      <td>Office Supplies</td>\n",
       "      <td>Los Angeles</td>\n",
       "      <td>United States</td>\n",
       "      <td>AP-109154</td>\n",
       "      <td>0.0</td>\n",
       "      <td>US</td>\n",
       "      <td>2011-09-29 00:00:00.000</td>\n",
       "      <td>CA-2011-146969</td>\n",
       "      <td>High</td>\n",
       "      <td>...</td>\n",
       "      <td>6</td>\n",
       "      <td>Consumer</td>\n",
       "      <td>2011-10-03 00:00:00.000</td>\n",
       "      <td>Standard Class</td>\n",
       "      <td>1.32</td>\n",
       "      <td>California</td>\n",
       "      <td>Paper</td>\n",
       "      <td>2011</td>\n",
       "      <td>North America</td>\n",
       "      <td>40</td>\n",
       "    </tr>\n",
       "  </tbody>\n",
       "</table>\n",
       "<p>5 rows × 26 columns</p>\n",
       "</div>"
      ],
      "text/plain": [
       "   Unnamed: 0         Category         City        Country Customer.ID  \\\n",
       "0           0  Office Supplies  Los Angeles  United States   LS-172304   \n",
       "1           1  Office Supplies  Los Angeles  United States   MV-174854   \n",
       "2           2  Office Supplies  Los Angeles  United States   CS-121304   \n",
       "3           3  Office Supplies  Los Angeles  United States   CS-121304   \n",
       "4           4  Office Supplies  Los Angeles  United States   AP-109154   \n",
       "\n",
       "   Discount Market               Order.Date        Order.ID Order.Priority  \\\n",
       "0       0.0     US  2011-01-07 00:00:00.000  CA-2011-130813           High   \n",
       "1       0.0     US  2011-01-21 00:00:00.000  CA-2011-148614         Medium   \n",
       "2       0.0     US  2011-08-05 00:00:00.000  CA-2011-118962         Medium   \n",
       "3       0.0     US  2011-08-05 00:00:00.000  CA-2011-118962         Medium   \n",
       "4       0.0     US  2011-09-29 00:00:00.000  CA-2011-146969           High   \n",
       "\n",
       "   ... Sales   Segment                Ship.Date       Ship.Mode Shipping.Cost  \\\n",
       "0  ...    19  Consumer  2011-01-09 00:00:00.000    Second Class          4.37   \n",
       "1  ...    19  Consumer  2011-01-26 00:00:00.000  Standard Class          0.94   \n",
       "2  ...    21  Consumer  2011-08-09 00:00:00.000  Standard Class          1.81   \n",
       "3  ...   111  Consumer  2011-08-09 00:00:00.000  Standard Class          4.59   \n",
       "4  ...     6  Consumer  2011-10-03 00:00:00.000  Standard Class          1.32   \n",
       "\n",
       "        State  Sub.Category  Year        Market2 weeknum  \n",
       "0  California         Paper  2011  North America       2  \n",
       "1  California         Paper  2011  North America       4  \n",
       "2  California         Paper  2011  North America      32  \n",
       "3  California         Paper  2011  North America      32  \n",
       "4  California         Paper  2011  North America      40  \n",
       "\n",
       "[5 rows x 26 columns]"
      ]
     },
     "execution_count": 7,
     "metadata": {},
     "output_type": "execute_result"
    }
   ],
   "source": [
    "super_store.head()"
   ]
  },
  {
   "cell_type": "code",
   "execution_count": 8,
   "id": "ffa60138-06d6-4efa-af8e-161e635f245b",
   "metadata": {},
   "outputs": [
    {
     "data": {
      "text/plain": [
       "(51290, 26)"
      ]
     },
     "execution_count": 8,
     "metadata": {},
     "output_type": "execute_result"
    }
   ],
   "source": [
    "super_store.shape"
   ]
  },
  {
   "cell_type": "code",
   "execution_count": 9,
   "id": "cbca5f39-f245-42ac-b9e6-2a55cb1a054d",
   "metadata": {},
   "outputs": [
    {
     "data": {
      "text/plain": [
       "Unnamed: 0        0\n",
       "Category          0\n",
       "City              0\n",
       "Country           0\n",
       "Customer.ID       0\n",
       "Discount          0\n",
       "Market            0\n",
       "Order.Date        0\n",
       "Order.ID          0\n",
       "Order.Priority    0\n",
       "Product.ID        0\n",
       "Product.Name      0\n",
       "Profit            0\n",
       "Quantity          0\n",
       "Region            0\n",
       "Row.ID            0\n",
       "Sales             0\n",
       "Segment           0\n",
       "Ship.Date         0\n",
       "Ship.Mode         0\n",
       "Shipping.Cost     0\n",
       "State             0\n",
       "Sub.Category      0\n",
       "Year              0\n",
       "Market2           0\n",
       "weeknum           0\n",
       "dtype: int64"
      ]
     },
     "execution_count": 9,
     "metadata": {},
     "output_type": "execute_result"
    }
   ],
   "source": [
    "# Check for missing values\n",
    "\n",
    "super_store.isnull().sum()\n",
    "\n",
    "# No missing values to handle"
   ]
  },
  {
   "cell_type": "code",
   "execution_count": 10,
   "id": "377bc14e-7e51-411b-a142-5e37f0c4fce1",
   "metadata": {},
   "outputs": [],
   "source": [
    "dups = super_store.duplicated()"
   ]
  },
  {
   "cell_type": "code",
   "execution_count": 11,
   "id": "f1a2207e-e484-4da5-abb0-312a8683e751",
   "metadata": {},
   "outputs": [
    {
     "data": {
      "text/plain": [
       "(51290,)"
      ]
     },
     "execution_count": 11,
     "metadata": {},
     "output_type": "execute_result"
    }
   ],
   "source": [
    "dups.shape # No dups"
   ]
  },
  {
   "cell_type": "code",
   "execution_count": 12,
   "id": "8b6f2da3-5e4b-43aa-a948-223b709d7c9d",
   "metadata": {},
   "outputs": [
    {
     "name": "stderr",
     "output_type": "stream",
     "text": [
      "C:\\Users\\Tim\\AppData\\Local\\Temp\\ipykernel_11104\\1135177236.py:1: UserWarning: \n",
      "\n",
      "`distplot` is a deprecated function and will be removed in seaborn v0.14.0.\n",
      "\n",
      "Please adapt your code to use either `displot` (a figure-level function with\n",
      "similar flexibility) or `histplot` (an axes-level function for histograms).\n",
      "\n",
      "For a guide to updating your code to use the new functions, please see\n",
      "https://gist.github.com/mwaskom/de44147ed2974457ad6372750bbe5751\n",
      "\n",
      "  sns.distplot(super_store['Profit'], bins=25) # Shows extreme values\n"
     ]
    },
    {
     "data": {
      "text/plain": [
       "<Axes: xlabel='Profit', ylabel='Density'>"
      ]
     },
     "execution_count": 12,
     "metadata": {},
     "output_type": "execute_result"
    },
    {
     "data": {
      "image/png": "[encoded data removed]",
      "text/plain": [
       "<Figure size 640x480 with 1 Axes>"
      ]
     },
     "metadata": {},
     "output_type": "display_data"
    }
   ],
   "source": [
    "sns.distplot(super_store['Profit'], bins=25) # Shows extreme values\n",
    "\n",
    "# Some of the outliers in the high values may need to be removed, but let's try without doing so first."
   ]
  },
  {
   "cell_type": "code",
   "execution_count": 13,
   "id": "38c2d2fc-dcb4-4a74-85ea-47e1c4f23b71",
   "metadata": {},
   "outputs": [
    {
     "name": "stderr",
     "output_type": "stream",
     "text": [
      "C:\\Users\\Tim\\AppData\\Local\\Temp\\ipykernel_11104\\2417338077.py:1: UserWarning: \n",
      "\n",
      "`distplot` is a deprecated function and will be removed in seaborn v0.14.0.\n",
      "\n",
      "Please adapt your code to use either `displot` (a figure-level function with\n",
      "similar flexibility) or `histplot` (an axes-level function for histograms).\n",
      "\n",
      "For a guide to updating your code to use the new functions, please see\n",
      "https://gist.github.com/mwaskom/de44147ed2974457ad6372750bbe5751\n",
      "\n",
      "  sns.distplot(super_store['Sales'], bins=25) # Shows extreme values\n"
     ]
    },
    {
     "data": {
      "text/plain": [
       "<Axes: xlabel='Sales', ylabel='Density'>"
      ]
     },
     "execution_count": 13,
     "metadata": {},
     "output_type": "execute_result"
    },
    {
     "data": {
      "image/png": "[encoded data removed]",
      "text/plain": [
       "<Figure size 640x480 with 1 Axes>"
      ]
     },
     "metadata": {},
     "output_type": "display_data"
    }
   ],
   "source": [
    "sns.distplot(super_store['Sales'], bins=25) # Shows extreme values\n",
    "\n",
    "# Some of the outliers in the high values may need to be removed, but let's try without doing so first."
   ]
  },
  {
   "cell_type": "code",
   "execution_count": 14,
   "id": "4ba673fd-d133-4c11-9a3e-234906374abf",
   "metadata": {},
   "outputs": [
    {
     "data": {
      "text/plain": [
       "28.610982477675964"
      ]
     },
     "execution_count": 14,
     "metadata": {},
     "output_type": "execute_result"
    }
   ],
   "source": [
    "super_store['Profit'].mean() # Check the mean"
   ]
  },
  {
   "cell_type": "code",
   "execution_count": 16,
   "id": "a7f87544-e593-488a-a7ec-276331063489",
   "metadata": {},
   "outputs": [
    {
     "data": {
      "text/plain": [
       "9.24"
      ]
     },
     "execution_count": 16,
     "metadata": {},
     "output_type": "execute_result"
    }
   ],
   "source": [
    "super_store['Profit'].median() # Check the median"
   ]
  },
  {
   "cell_type": "code",
   "execution_count": 17,
   "id": "57d50cce-849c-4ac8-94f0-bcde64327822",
   "metadata": {},
   "outputs": [
    {
     "data": {
      "text/plain": [
       "8399.976"
      ]
     },
     "execution_count": 17,
     "metadata": {},
     "output_type": "execute_result"
    }
   ],
   "source": [
    "super_store['Profit'].max() # Check the max"
   ]
  },
  {
   "cell_type": "markdown",
   "id": "30eaf378-f68b-486f-bbc0-c2c2ca2f83c9",
   "metadata": {},
   "source": [
    "Hypothesis: Profit is determined by the Sales level or volume. "
   ]
  },
  {
   "cell_type": "markdown",
   "id": "6fcab0b0-4df3-4eff-8b7f-6cf7ba34af98",
   "metadata": {},
   "source": [
    "# 3. Data prep for regression analysis"
   ]
  },
  {
   "cell_type": "code",
   "execution_count": 19,
   "id": "4744ca4e-19a2-47a3-831a-1420284a5d79",
   "metadata": {},
   "outputs": [
    {
     "data": {
      "image/png": "[encoded data removed]",
      "text/plain": [
       "<Figure size 640x480 with 1 Axes>"
      ]
     },
     "metadata": {},
     "output_type": "display_data"
    }
   ],
   "source": [
    "# Create a scatterplot using matplotlib for another look at how the chosen variables plot against each other.\n",
    "\n",
    "super_store.plot(x = 'Sales', y='Profit',style='o') # The style option creates a scatterplot; without it, we only have lines.\n",
    "plt.title('Sales vs Profit')  \n",
    "plt.xlabel('Sales')  \n",
    "plt.ylabel('Profit')  \n",
    "plt.show()"
   ]
  },
  {
   "cell_type": "code",
   "execution_count": 20,
   "id": "6b2521f9-4c2e-4cf6-924f-523a5023b0c9",
   "metadata": {},
   "outputs": [],
   "source": [
    "# Reshape the variables into NumPy arrays and put them into separate objects.\n",
    "\n",
    "X = super_store['Sales'].values.reshape(-1,1)\n",
    "y = super_store['Profit'].values.reshape(-1,1)"
   ]
  },
  {
   "cell_type": "code",
   "execution_count": 21,
   "id": "c0e56111-c9c8-475f-9061-4aff5325fbef",
   "metadata": {},
   "outputs": [
    {
     "data": {
      "text/plain": [
       "array([[ 19],\n",
       "       [ 19],\n",
       "       [ 21],\n",
       "       ...,\n",
       "       [ 12],\n",
       "       [ 90],\n",
       "       [154]], dtype=int64)"
      ]
     },
     "execution_count": 21,
     "metadata": {},
     "output_type": "execute_result"
    }
   ],
   "source": [
    "X"
   ]
  },
  {
   "cell_type": "code",
   "execution_count": 22,
   "id": "14523b8f-b347-4b11-8f70-37de8ccbd807",
   "metadata": {},
   "outputs": [
    {
     "data": {
      "text/plain": [
       "array([[ 9.3312],\n",
       "       [ 9.2928],\n",
       "       [ 9.8418],\n",
       "       ...,\n",
       "       [ 4.2804],\n",
       "       [33.93  ],\n",
       "       [51.8238]])"
      ]
     },
     "execution_count": 22,
     "metadata": {},
     "output_type": "execute_result"
    }
   ],
   "source": [
    "y"
   ]
  },
  {
   "cell_type": "code",
   "execution_count": 23,
   "id": "f5b19f97-0644-4adb-96e5-41ce271f82b0",
   "metadata": {},
   "outputs": [],
   "source": [
    "# Split data into a training set and a test set.\n",
    "\n",
    "X_train, X_test, y_train, y_test = train_test_split(X, y, test_size=0.3, random_state=0)"
   ]
  },
  {
   "cell_type": "markdown",
   "id": "74c8677b-e00f-43ec-8a36-65994a23a644",
   "metadata": {},
   "source": [
    "# 4. Regression analysis"
   ]
  },
  {
   "cell_type": "code",
   "execution_count": 24,
   "id": "fae1c7c9-c1fa-4f44-bef4-6110d0b9c5b4",
   "metadata": {},
   "outputs": [],
   "source": [
    "# Create a regression object.\n",
    "\n",
    "regression = LinearRegression()  # This is the regression object, which will be fit onto the training set."
   ]
  },
  {
   "cell_type": "code",
   "execution_count": 25,
   "id": "bd943fe8-c425-4798-b798-eef21118149f",
   "metadata": {},
   "outputs": [
    {
     "data": {
      "text/html": [
       "<style>#sk-container-id-1 {color: black;background-color: white;}#sk-container-id-1 pre{padding: 0;}#sk-container-id-1 div.sk-toggleable {background-color: white;}#sk-container-id-1 label.sk-toggleable__label {cursor: pointer;display: block;width: 100%;margin-bottom: 0;padding: 0.3em;box-sizing: border-box;text-align: center;}#sk-container-id-1 label.sk-toggleable__label-arrow:before {content: \"▸\";float: left;margin-right: 0.25em;color: #696969;}#sk-container-id-1 label.sk-toggleable__label-arrow:hover:before {color: black;}#sk-container-id-1 div.sk-estimator:hover label.sk-toggleable__label-arrow:before {color: black;}#sk-container-id-1 div.sk-toggleable__content {max-height: 0;max-width: 0;overflow: hidden;text-align: left;background-color: #f0f8ff;}#sk-container-id-1 div.sk-toggleable__content pre {margin: 0.2em;color: black;border-radius: 0.25em;background-color: #f0f8ff;}#sk-container-id-1 input.sk-toggleable__control:checked~div.sk-toggleable__content {max-height: 200px;max-width: 100%;overflow: auto;}#sk-container-id-1 input.sk-toggleable__control:checked~label.sk-toggleable__label-arrow:before {content: \"▾\";}#sk-container-id-1 div.sk-estimator input.sk-toggleable__control:checked~label.sk-toggleable__label {background-color: #d4ebff;}#sk-container-id-1 div.sk-label input.sk-toggleable__control:checked~label.sk-toggleable__label {background-color: #d4ebff;}#sk-container-id-1 input.sk-hidden--visually {border: 0;clip: rect(1px 1px 1px 1px);clip: rect(1px, 1px, 1px, 1px);height: 1px;margin: -1px;overflow: hidden;padding: 0;position: absolute;width: 1px;}#sk-container-id-1 div.sk-estimator {font-family: monospace;background-color: #f0f8ff;border: 1px dotted black;border-radius: 0.25em;box-sizing: border-box;margin-bottom: 0.5em;}#sk-container-id-1 div.sk-estimator:hover {background-color: #d4ebff;}#sk-container-id-1 div.sk-parallel-item::after {content: \"\";width: 100%;border-bottom: 1px solid gray;flex-grow: 1;}#sk-container-id-1 div.sk-label:hover label.sk-toggleable__label {background-color: #d4ebff;}#sk-container-id-1 div.sk-serial::before {content: \"\";position: absolute;border-left: 1px solid gray;box-sizing: border-box;top: 0;bottom: 0;left: 50%;z-index: 0;}#sk-container-id-1 div.sk-serial {display: flex;flex-direction: column;align-items: center;background-color: white;padding-right: 0.2em;padding-left: 0.2em;position: relative;}#sk-container-id-1 div.sk-item {position: relative;z-index: 1;}#sk-container-id-1 div.sk-parallel {display: flex;align-items: stretch;justify-content: center;background-color: white;position: relative;}#sk-container-id-1 div.sk-item::before, #sk-container-id-1 div.sk-parallel-item::before {content: \"\";position: absolute;border-left: 1px solid gray;box-sizing: border-box;top: 0;bottom: 0;left: 50%;z-index: -1;}#sk-container-id-1 div.sk-parallel-item {display: flex;flex-direction: column;z-index: 1;position: relative;background-color: white;}#sk-container-id-1 div.sk-parallel-item:first-child::after {align-self: flex-end;width: 50%;}#sk-container-id-1 div.sk-parallel-item:last-child::after {align-self: flex-start;width: 50%;}#sk-container-id-1 div.sk-parallel-item:only-child::after {width: 0;}#sk-container-id-1 div.sk-dashed-wrapped {border: 1px dashed gray;margin: 0 0.4em 0.5em 0.4em;box-sizing: border-box;padding-bottom: 0.4em;background-color: white;}#sk-container-id-1 div.sk-label label {font-family: monospace;font-weight: bold;display: inline-block;line-height: 1.2em;}#sk-container-id-1 div.sk-label-container {text-align: center;}#sk-container-id-1 div.sk-container {/* jupyter's `normalize.less` sets `[hidden] { display: none; }` but bootstrap.min.css set `[hidden] { display: none !important; }` so we also need the `!important` here to be able to override the default hidden behavior on the sphinx rendered scikit-learn.org. See: https://github.com/scikit-learn/scikit-learn/issues/21755 */display: inline-block !important;position: relative;}#sk-container-id-1 div.sk-text-repr-fallback {display: none;}</style><div id=\"sk-container-id-1\" class=\"sk-top-container\"><div class=\"sk-text-repr-fallback\"><pre>LinearRegression()</pre><b>In a Jupyter environment, please rerun this cell to show the HTML representation or trust the notebook. <br />On GitHub, the HTML representation is unable to render, please try loading this page with nbviewer.org.</b></div><div class=\"sk-container\" hidden><div class=\"sk-item\"><div class=\"sk-estimator sk-toggleable\"><input class=\"sk-toggleable__control sk-hidden--visually\" id=\"sk-estimator-id-1\" type=\"checkbox\" checked><label for=\"sk-estimator-id-1\" class=\"sk-toggleable__label sk-toggleable__label-arrow\">LinearRegression</label><div class=\"sk-toggleable__content\"><pre>LinearRegression()</pre></div></div></div></div></div>"
      ],
      "text/plain": [
       "LinearRegression()"
      ]
     },
     "execution_count": 25,
     "metadata": {},
     "output_type": "execute_result"
    }
   ],
   "source": [
    "# Fit the regression object onto the training set.\n",
    "\n",
    "regression.fit(X_train, y_train)"
   ]
  },
  {
   "cell_type": "code",
   "execution_count": 26,
   "id": "0748ff4a-96a0-4dc2-a71d-fde60a7acc1b",
   "metadata": {},
   "outputs": [],
   "source": [
    "# Predict the values of y using X.\n",
    "\n",
    "y_predicted = regression.predict(X_test)"
   ]
  },
  {
   "cell_type": "code",
   "execution_count": 27,
   "id": "9be13968-3264-4b4e-98a0-4fe26a0be003",
   "metadata": {},
   "outputs": [
    {
     "data": {
      "image/png": "[encoded data removed]",
      "text/plain": [
       "<Figure size 640x480 with 1 Axes>"
      ]
     },
     "metadata": {},
     "output_type": "display_data"
    }
   ],
   "source": [
    "# Create a plot that shows the regression line from the model on the test set.\n",
    "\n",
    "plot_test = plt\n",
    "plot_test.scatter(X_test, y_test, color='gray', s = 15)\n",
    "plot_test.plot(X_test, y_predicted, color='red', linewidth =3)\n",
    "plot_test.title('Sales vs Profit (Test set)')\n",
    "plot_test.xlabel('Sales')\n",
    "plot_test.ylabel('Profit')\n",
    "plot_test.show()"
   ]
  },
  {
   "cell_type": "code",
   "execution_count": 28,
   "id": "72e34f93-fbfd-4cdb-ac11-b0b34f13499a",
   "metadata": {},
   "outputs": [],
   "source": [
    "# Create objects that contain the model summary statistics.\n",
    "\n",
    "rmse = mean_squared_error(y_test, y_predicted) # This is the mean squared error\n",
    "r2 = r2_score(y_test, y_predicted) # This is the R2 score. "
   ]
  },
  {
   "cell_type": "code",
   "execution_count": 29,
   "id": "1b7a8e4b-f212-4428-ac11-85b3381fb0ae",
   "metadata": {},
   "outputs": [
    {
     "name": "stdout",
     "output_type": "stream",
     "text": [
      "Slope: [[0.17832342]]\n",
      "Mean squared error:  20942.230929192123\n",
      "R2 score:  0.19258310998237338\n"
     ]
    }
   ],
   "source": [
    "# Print the model summary statistics. This is where you evaluate the performance of the model.\n",
    "\n",
    "print('Slope:' ,regression.coef_)\n",
    "print('Mean squared error: ', rmse)\n",
    "print('R2 score: ', r2)"
   ]
  },
  {
   "cell_type": "markdown",
   "id": "27df3057-9605-4327-b5bd-54fdbf23bdbe",
   "metadata": {},
   "source": [
    "Based on the results:\n",
    "\n",
    "This signifies that for each unit increment in the independent variable of sales, the dependent variable profit rises by approximately 0.178. The slope indicates a weak positive correlation between the variables.\n",
    "              \n",
    "The Mean Squared Error (MSE) denotes the average of the squared discrepancies between predicted values and actual data. An elevated MSE signifies that the predictions deviate significantly from the actual values, indicating a low level of model accuracy. The MSE exceeding 20,000 indicates a substantial error in the predictions.\n",
    "    \n",
    "The R² score indicates the proportion of variability in the dependent variable that can be explained by the independent variable(s). An R² value of 0.1926 indicates that only 19.26% of the variance in the dependent variable is accounted for by the model. This is relatively low, suggesting that the model fails to adequately capture the relationship between the variables and exhibits limited predictive capability.\n",
    "\n",
    "Analysis: \n",
    "\n",
    "The regression line seems to inadequately represent the data. The slope indicates a marginal positive correlation between the variables; however, the elevated MSE and diminished R² score imply that the model inadequately represents the data. The independent variable is not a robust predictor of the dependent variable, and there may be significant factors absent from the model. It may be advantageous to incorporate additional pertinent features or to contemplate an entirely different model.\n"
   ]
  },
  {
   "cell_type": "code",
   "execution_count": 30,
   "id": "719eda23-a279-4167-b01c-286e4a3fa36b",
   "metadata": {},
   "outputs": [
    {
     "data": {
      "text/plain": [
       "array([[  1.61907396],\n",
       "       [ 77.22820343],\n",
       "       [-10.86356534],\n",
       "       ...,\n",
       "       [ 49.0531033 ],\n",
       "       [ 50.83633748],\n",
       "       [ -9.61530141]])"
      ]
     },
     "execution_count": 30,
     "metadata": {},
     "output_type": "execute_result"
    }
   ],
   "source": [
    "y_predicted"
   ]
  },
  {
   "cell_type": "code",
   "execution_count": 31,
   "id": "d7aaa3dd-78c1-4e36-8d32-181f76f434bd",
   "metadata": {},
   "outputs": [
    {
     "data": {
      "text/html": [
       "<div>\n",
       "<style scoped>\n",
       "    .dataframe tbody tr th:only-of-type {\n",
       "        vertical-align: middle;\n",
       "    }\n",
       "\n",
       "    .dataframe tbody tr th {\n",
       "        vertical-align: top;\n",
       "    }\n",
       "\n",
       "    .dataframe thead th {\n",
       "        text-align: right;\n",
       "    }\n",
       "</style>\n",
       "<table border=\"1\" class=\"dataframe\">\n",
       "  <thead>\n",
       "    <tr style=\"text-align: right;\">\n",
       "      <th></th>\n",
       "      <th>Actual</th>\n",
       "      <th>Predicted</th>\n",
       "    </tr>\n",
       "  </thead>\n",
       "  <tbody>\n",
       "    <tr>\n",
       "      <th>0</th>\n",
       "      <td>12.4800</td>\n",
       "      <td>1.619074</td>\n",
       "    </tr>\n",
       "    <tr>\n",
       "      <th>1</th>\n",
       "      <td>228.6900</td>\n",
       "      <td>77.228203</td>\n",
       "    </tr>\n",
       "    <tr>\n",
       "      <th>2</th>\n",
       "      <td>12.4416</td>\n",
       "      <td>-10.863565</td>\n",
       "    </tr>\n",
       "    <tr>\n",
       "      <th>3</th>\n",
       "      <td>-24.2715</td>\n",
       "      <td>106.473244</td>\n",
       "    </tr>\n",
       "    <tr>\n",
       "      <th>4</th>\n",
       "      <td>38.9400</td>\n",
       "      <td>38.175375</td>\n",
       "    </tr>\n",
       "    <tr>\n",
       "      <th>5</th>\n",
       "      <td>-6.0660</td>\n",
       "      <td>8.752011</td>\n",
       "    </tr>\n",
       "    <tr>\n",
       "      <th>6</th>\n",
       "      <td>-47.8320</td>\n",
       "      <td>12.853449</td>\n",
       "    </tr>\n",
       "    <tr>\n",
       "      <th>7</th>\n",
       "      <td>224.2800</td>\n",
       "      <td>73.305088</td>\n",
       "    </tr>\n",
       "    <tr>\n",
       "      <th>8</th>\n",
       "      <td>-6.3920</td>\n",
       "      <td>-9.793625</td>\n",
       "    </tr>\n",
       "    <tr>\n",
       "      <th>9</th>\n",
       "      <td>-376.6932</td>\n",
       "      <td>70.630237</td>\n",
       "    </tr>\n",
       "    <tr>\n",
       "      <th>10</th>\n",
       "      <td>8.5500</td>\n",
       "      <td>-8.188714</td>\n",
       "    </tr>\n",
       "    <tr>\n",
       "      <th>11</th>\n",
       "      <td>107.8800</td>\n",
       "      <td>41.028549</td>\n",
       "    </tr>\n",
       "    <tr>\n",
       "      <th>12</th>\n",
       "      <td>-13.1010</td>\n",
       "      <td>-13.895063</td>\n",
       "    </tr>\n",
       "    <tr>\n",
       "      <th>13</th>\n",
       "      <td>2.3200</td>\n",
       "      <td>-14.430034</td>\n",
       "    </tr>\n",
       "    <tr>\n",
       "      <th>14</th>\n",
       "      <td>17.7300</td>\n",
       "      <td>-8.367037</td>\n",
       "    </tr>\n",
       "    <tr>\n",
       "      <th>15</th>\n",
       "      <td>82.5600</td>\n",
       "      <td>45.843282</td>\n",
       "    </tr>\n",
       "    <tr>\n",
       "      <th>16</th>\n",
       "      <td>32.7600</td>\n",
       "      <td>26.406029</td>\n",
       "    </tr>\n",
       "    <tr>\n",
       "      <th>17</th>\n",
       "      <td>3.4200</td>\n",
       "      <td>-13.538417</td>\n",
       "    </tr>\n",
       "    <tr>\n",
       "      <th>18</th>\n",
       "      <td>-19.9280</td>\n",
       "      <td>-3.730629</td>\n",
       "    </tr>\n",
       "    <tr>\n",
       "      <th>19</th>\n",
       "      <td>7.5600</td>\n",
       "      <td>-5.157216</td>\n",
       "    </tr>\n",
       "    <tr>\n",
       "      <th>20</th>\n",
       "      <td>77.4000</td>\n",
       "      <td>17.489858</td>\n",
       "    </tr>\n",
       "    <tr>\n",
       "      <th>21</th>\n",
       "      <td>1.1564</td>\n",
       "      <td>-14.786681</td>\n",
       "    </tr>\n",
       "    <tr>\n",
       "      <th>22</th>\n",
       "      <td>237.1500</td>\n",
       "      <td>233.261195</td>\n",
       "    </tr>\n",
       "    <tr>\n",
       "      <th>23</th>\n",
       "      <td>6.4200</td>\n",
       "      <td>-11.755182</td>\n",
       "    </tr>\n",
       "    <tr>\n",
       "      <th>24</th>\n",
       "      <td>-4.0320</td>\n",
       "      <td>-10.328595</td>\n",
       "    </tr>\n",
       "    <tr>\n",
       "      <th>25</th>\n",
       "      <td>4.6500</td>\n",
       "      <td>-12.646800</td>\n",
       "    </tr>\n",
       "    <tr>\n",
       "      <th>26</th>\n",
       "      <td>-6.7671</td>\n",
       "      <td>-13.181770</td>\n",
       "    </tr>\n",
       "    <tr>\n",
       "      <th>27</th>\n",
       "      <td>36.9360</td>\n",
       "      <td>14.280037</td>\n",
       "    </tr>\n",
       "    <tr>\n",
       "      <th>28</th>\n",
       "      <td>-2.1440</td>\n",
       "      <td>-4.265599</td>\n",
       "    </tr>\n",
       "    <tr>\n",
       "      <th>29</th>\n",
       "      <td>-3.3488</td>\n",
       "      <td>-14.786681</td>\n",
       "    </tr>\n",
       "  </tbody>\n",
       "</table>\n",
       "</div>"
      ],
      "text/plain": [
       "      Actual   Predicted\n",
       "0    12.4800    1.619074\n",
       "1   228.6900   77.228203\n",
       "2    12.4416  -10.863565\n",
       "3   -24.2715  106.473244\n",
       "4    38.9400   38.175375\n",
       "5    -6.0660    8.752011\n",
       "6   -47.8320   12.853449\n",
       "7   224.2800   73.305088\n",
       "8    -6.3920   -9.793625\n",
       "9  -376.6932   70.630237\n",
       "10    8.5500   -8.188714\n",
       "11  107.8800   41.028549\n",
       "12  -13.1010  -13.895063\n",
       "13    2.3200  -14.430034\n",
       "14   17.7300   -8.367037\n",
       "15   82.5600   45.843282\n",
       "16   32.7600   26.406029\n",
       "17    3.4200  -13.538417\n",
       "18  -19.9280   -3.730629\n",
       "19    7.5600   -5.157216\n",
       "20   77.4000   17.489858\n",
       "21    1.1564  -14.786681\n",
       "22  237.1500  233.261195\n",
       "23    6.4200  -11.755182\n",
       "24   -4.0320  -10.328595\n",
       "25    4.6500  -12.646800\n",
       "26   -6.7671  -13.181770\n",
       "27   36.9360   14.280037\n",
       "28   -2.1440   -4.265599\n",
       "29   -3.3488  -14.786681"
      ]
     },
     "execution_count": 31,
     "metadata": {},
     "output_type": "execute_result"
    }
   ],
   "source": [
    "# Create a dataframe comparing the actual and predicted values of y.\n",
    "\n",
    "data = pd.DataFrame({'Actual': y_test.flatten(), 'Predicted': y_predicted.flatten()})\n",
    "data.head(30)"
   ]
  },
  {
   "cell_type": "markdown",
   "id": "a15367da-d93a-4a39-8207-db5ab3bd90f8",
   "metadata": {},
   "source": [
    "# Compare how the regression fits the training set"
   ]
  },
  {
   "cell_type": "code",
   "execution_count": 32,
   "id": "58d39cc8-8964-4a3b-9393-0b13ee4d7780",
   "metadata": {},
   "outputs": [],
   "source": [
    "# Predict.\n",
    "\n",
    "y_predicted_train = regression.predict(X_train) # This is predicting X_train!"
   ]
  },
  {
   "cell_type": "code",
   "execution_count": 33,
   "id": "b7d1417b-7ce8-4caf-aed4-e1040db05b7b",
   "metadata": {},
   "outputs": [],
   "source": [
    "rmse = mean_squared_error(y_train, y_predicted_train)\n",
    "r2 = r2_score(y_train, y_predicted_train)"
   ]
  },
  {
   "cell_type": "code",
   "execution_count": 34,
   "id": "fb9d4613-8302-4438-9a25-32e37459213e",
   "metadata": {},
   "outputs": [
    {
     "name": "stdout",
     "output_type": "stream",
     "text": [
      "Slope: [[0.17832342]]\n",
      "Mean squared error:  24243.006845089112\n",
      "R2 score:  0.24954059452567445\n"
     ]
    }
   ],
   "source": [
    "print('Slope:' ,regression.coef_)\n",
    "print('Mean squared error: ', rmse)\n",
    "print('R2 score: ', r2)"
   ]
  },
  {
   "cell_type": "code",
   "execution_count": 35,
   "id": "4f174191-9215-47f1-a87c-71a23c878c4e",
   "metadata": {},
   "outputs": [
    {
     "data": {
      "image/png": "[encoded data removed]",
      "text/plain": [
       "<Figure size 640x480 with 1 Axes>"
      ]
     },
     "metadata": {},
     "output_type": "display_data"
    }
   ],
   "source": [
    "# Visualizing the training set results.\n",
    "\n",
    "plot_test = plt\n",
    "plot_test.scatter(X_train, y_train, color='green', s = 15)\n",
    "plot_test.plot(X_train, y_predicted_train, color='red', linewidth =3)\n",
    "plot_test.title('Sales vs Profit (Train set)')\n",
    "plot_test.xlabel('Sales')\n",
    "plot_test.ylabel('Profit')\n",
    "plot_test.show()"
   ]
  },
  {
   "cell_type": "markdown",
   "id": "8fedf1e5-ad6b-4dee-af66-de6b23f2848d",
   "metadata": {},
   "source": [
    "Interpretation of Model Performance:\n",
    "\n",
    "The model exhibits suboptimal performance on the test set. Although a weak positive correlation exists between the independent and dependent variables, the elevated MSE and diminished R² score suggest that the model's predictions lack accuracy. A mere fraction of the variance in the dependent variable is elucidated by the independent variable(s), indicating that the model fails to sufficiently represent the underlying patterns in the data.\n",
    "\n",
    "\n",
    "Data Bias: Biased training data can impair the model's ability to generalise to previously unseen data. Potential biases may encompass:\n",
    "\n",
    "Sampling Bias: If the training data fails to accurately represent the overall population, the model may exhibit suboptimal performance on the test set. If the training data is primarily sourced from a particular region or market, the model may encounter difficulties when evaluated on data from other regions.\n",
    "\n",
    "Feature Bias: When specific features disproportionately influence outcomes in the training data (e.g., excessive dependence on a single predictor), the model may exhibit underfitting or overfitting. The feeble positive slope may indicate that the model is insufficiently predictive based on the input variables.\n",
    "\n",
    "\n",
    "Conclusion:\n",
    "\n",
    "The model exhibits subpar performance on the test set, as indicated by the elevated MSE and diminished R² score. The shallow slope signifies a negligible correlation between the variables. Moreover, biases in the data, such as sampling bias and feature bias, may be impairing the model's capacity to generalise. Mitigating potential data bias through enhanced data collection, ensuring dataset diversity, and incorporating additional pertinent features may enhance the model's performance.\n"
   ]
  },
  {
   "cell_type": "code",
   "execution_count": null,
   "id": "e45c1c36-26bc-44a2-b65e-570279c9d7c8",
   "metadata": {},
   "outputs": [],
   "source": []
  }
 ],
 "metadata": {
  "kernelspec": {
   "display_name": "Python 3 (ipykernel)",
   "language": "python",
   "name": "python3"
  },
  "language_info": {
   "codemirror_mode": {
    "name": "ipython",
    "version": 3
   },
   "file_extension": ".py",
   "mimetype": "text/x-python",
   "name": "python",
   "nbconvert_exporter": "python",
   "pygments_lexer": "ipython3",
   "version": "3.11.7"
  }
 },
 "nbformat": 4,
 "nbformat_minor": 5
}
